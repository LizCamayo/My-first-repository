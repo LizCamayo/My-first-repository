{
 "cells": [
  {
   "cell_type": "code",
   "execution_count": 1,
   "metadata": {},
   "outputs": [],
   "source": [
    "import numpy as np\n",
    "import pymatgen as pmg\n",
    "from pymatgen.ext.matproj import MPRester\n",
    "from pymatgen.symmetry.analyzer import SpacegroupAnalyzer"
   ]
  },
  {
   "cell_type": "code",
   "execution_count": 3,
   "metadata": {},
   "outputs": [
    {
     "data": {
      "text/plain": [
       "1"
      ]
     },
     "execution_count": 3,
     "metadata": {},
     "output_type": "execute_result"
    }
   ],
   "source": [
    "m = MPRester()\n",
    "structure = m.get_structure_by_material_id('mp-558497')\n",
    "symm_tol = 1e-3\n",
    "SpacegroupAnalyzer(structure, symprec=symm_tol).get_space_group_number()"
   ]
  },
  {
   "cell_type": "code",
   "execution_count": 5,
   "metadata": {},
   "outputs": [
    {
     "name": "stdout",
     "output_type": "stream",
     "text": [
      "['a', 'a', 'a', 'a', 'a', 'a', 'a', 'a', 'a', 'a', 'a', 'a', 'a', 'a', 'a', 'a', 'a', 'a', 'a', 'a', 'a', 'a', 'a', 'a', 'a', 'a', 'a', 'a', 'a', 'a', 'a', 'a', 'a', 'a', 'a', 'a', 'a', 'a', 'a', 'a', 'a', 'a', 'a', 'a', 'a', 'a', 'a', 'a', 'a', 'a', 'a', 'a']\n"
     ]
    }
   ],
   "source": [
    "l=SpacegroupAnalyzer(structure, symprec=symm_tol).get_symmetry_dataset()['wyckoffs']\n",
    "print(l)"
   ]
  },
  {
   "cell_type": "code",
   "execution_count": 6,
   "metadata": {},
   "outputs": [
    {
     "data": {
      "text/plain": [
       "Structure Summary\n",
       "Lattice\n",
       "    abc : 6.516905399608698 8.401034194409755 13.295376308198612\n",
       " angles : 96.7720926261415 89.99988923696733 112.82056181844675\n",
       " volume : 665.4144828899356\n",
       "      A : -6.516905399608698 0.0 0.0\n",
       "      B : 3.2583108000312517 7.743435043056904 0.0\n",
       "      C : -2.5702350380482978e-05 -1.7009265471095891 -13.186124527596657\n",
       "PeriodicSite: Cr (-4.9447, -1.2596, -9.8925) [0.7598, 0.0021, 0.7502]\n",
       "PeriodicSite: Cr (-4.8322, 3.0385, -6.5979) [0.9926, 0.5023, 0.5004]\n",
       "PeriodicSite: Cr (-1.6853, -0.4088, -3.3016) [0.2597, 0.0022, 0.2504]\n",
       "PeriodicSite: Cr (-1.5723, 3.8878, -0.0055) [0.4923, 0.5022, 0.0004]\n",
       "PeriodicSite: P (0.5763, 2.0653, -3.6237) [0.0751, 0.3271, 0.2748]\n",
       "PeriodicSite: P (-2.6824, 1.2147, -10.2170) [0.5751, 0.3271, 0.7748]\n",
       "PeriodicSite: P (2.6820, 6.3622, -0.3274) [0.0020, 0.8271, 0.0248]\n",
       "PeriodicSite: P (-0.5763, 5.5120, -6.9201) [0.5020, 0.8271, 0.5248]\n",
       "PeriodicSite: P (-2.6097, 0.5821, -6.2722) [0.4903, 0.1797, 0.4757]\n",
       "PeriodicSite: P (-5.8680, -0.2686, -12.8653) [0.9902, 0.1796, 0.9757]\n",
       "PeriodicSite: P (-0.6490, 4.8788, -2.9758) [0.4394, 0.6796, 0.2257]\n",
       "PeriodicSite: P (-3.9074, 4.0281, -9.5690) [0.9394, 0.6796, 0.7257]\n",
       "PeriodicSite: P (-3.5882, 1.8100, -1.6427) [0.6812, 0.2611, 0.1246]\n",
       "PeriodicSite: P (-0.3299, 0.9597, -8.2359) [0.1812, 0.2611, 0.6246]\n",
       "PeriodicSite: P (-2.9289, 5.2566, -4.9391) [0.8300, 0.7611, 0.3746]\n",
       "PeriodicSite: P (0.3295, 4.4063, -11.5326) [0.3300, 0.7612, 0.8746]\n",
       "PeriodicSite: O (-0.7745, 4.9682, -1.4819) [0.4520, 0.6663, 0.1124]\n",
       "PeriodicSite: O (-4.0333, 4.1174, -8.0751) [0.9520, 0.6662, 0.6124]\n",
       "PeriodicSite: O (-2.4839, 0.6710, -4.7786) [0.4643, 0.1663, 0.3624]\n",
       "PeriodicSite: O (-5.7422, -0.1795, -11.3714) [0.9642, 0.1663, 0.8624]\n",
       "PeriodicSite: O (-2.9581, 0.5136, -2.0554) [0.5042, 0.1006, 0.1559]\n",
       "PeriodicSite: O (0.3004, -0.3366, -8.6484) [0.0042, 0.1006, 0.6559]\n",
       "PeriodicSite: O (-3.5590, 3.9602, -5.3518) [0.8464, 0.6006, 0.4059]\n",
       "PeriodicSite: O (-0.3003, 3.1097, -11.9453) [0.3464, 0.6006, 0.9059]\n",
       "PeriodicSite: O (-0.2066, 2.4683, -0.3423) [0.1939, 0.3245, 0.0260]\n",
       "PeriodicSite: O (-3.4652, 1.6178, -6.9352) [0.6939, 0.3245, 0.5259]\n",
       "PeriodicSite: O (0.2065, 5.9150, -3.6385) [0.3805, 0.8245, 0.2759]\n",
       "PeriodicSite: O (-3.0518, 5.0644, -10.2315) [0.8805, 0.8245, 0.7759]\n",
       "PeriodicSite: O (2.7075, 6.4374, -4.6713) [0.0391, 0.9092, 0.3543]\n",
       "PeriodicSite: O (-0.5512, 5.5870, -11.2645) [0.5391, 0.9092, 0.8543]\n",
       "PeriodicSite: O (-2.7075, 2.9909, -1.3751) [0.6200, 0.4092, 0.1043]\n",
       "PeriodicSite: O (0.5510, 2.1402, -7.9680) [0.1200, 0.4091, 0.6043]\n",
       "PeriodicSite: O (0.2107, 4.3850, -6.3197) [0.3034, 0.6716, 0.4793]\n",
       "PeriodicSite: O (-3.0477, 3.5342, -12.9129) [0.8034, 0.6715, 0.9793]\n",
       "PeriodicSite: O (-0.2108, 0.9384, -3.0231) [0.1181, 0.1715, 0.2293]\n",
       "PeriodicSite: O (-3.4693, 0.0881, -9.6162) [0.6181, 0.1716, 0.7293]\n",
       "PeriodicSite: O (0.9675, 1.9388, -5.0689) [0.0189, 0.3348, 0.3844]\n",
       "PeriodicSite: O (-2.2910, 1.0883, -11.6619) [0.5189, 0.3348, 0.8844]\n",
       "PeriodicSite: O (2.2908, 6.2355, -1.7727) [0.0659, 0.8348, 0.1344]\n",
       "PeriodicSite: O (-0.9676, 5.3853, -8.3653) [0.5659, 0.8348, 0.6344]\n",
       "PeriodicSite: O (-2.1092, 4.9492, -3.6073) [0.6733, 0.6992, 0.2736]\n",
       "PeriodicSite: O (1.1495, 4.0986, -10.2007) [0.1732, 0.6992, 0.7736]\n",
       "PeriodicSite: O (-4.4079, 1.5026, -0.3109) [0.7760, 0.1992, 0.0236]\n",
       "PeriodicSite: O (-1.1495, 0.6522, -6.9040) [0.2760, 0.1992, 0.5236]\n",
       "PeriodicSite: O (-4.6434, 2.3329, -2.7247) [0.8858, 0.3467, 0.2066]\n",
       "PeriodicSite: O (-1.3850, 1.4822, -9.3176) [0.3858, 0.3466, 0.7066]\n",
       "PeriodicSite: O (-1.8735, 5.7793, -6.0210) [0.7108, 0.8466, 0.4566]\n",
       "PeriodicSite: O (1.3846, 4.9288, -12.6145) [0.2108, 0.8467, 0.9566]\n",
       "PeriodicSite: O (-3.0359, 7.7203, -0.1466) [0.9656, 0.9995, 0.0111]\n",
       "PeriodicSite: O (0.2223, 6.8698, -6.7393) [0.4656, 0.9994, 0.5111]\n",
       "PeriodicSite: O (-0.2227, 3.4235, -3.4428) [0.2839, 0.4995, 0.2611]\n",
       "PeriodicSite: O (-3.4812, 2.5730, -10.0361) [0.7839, 0.4995, 0.7611]"
      ]
     },
     "execution_count": 6,
     "metadata": {},
     "output_type": "execute_result"
    }
   ],
   "source": [
    "SpacegroupAnalyzer(structure, symprec=symm_tol).get_primitive_standard_structure()"
   ]
  },
  {
   "cell_type": "code",
   "execution_count": 7,
   "metadata": {},
   "outputs": [
    {
     "data": {
      "text/plain": [
       "Structure Summary\n",
       "Lattice\n",
       "    abc : 6.516905399608698 8.401034194409755 13.295376308198612\n",
       " angles : 96.7720926261415 89.99988923696733 112.82056181844675\n",
       " volume : 665.4144828899356\n",
       "      A : -6.516905399608698 0.0 0.0\n",
       "      B : 3.2583108000312517 7.743435043056904 0.0\n",
       "      C : -2.5702350380482978e-05 -1.7009265471095891 -13.186124527596657\n",
       "PeriodicSite: Cr (-4.9447, -1.2596, -9.8925) [0.7598, 0.0021, 0.7502]\n",
       "PeriodicSite: Cr (-4.8322, 3.0385, -6.5979) [0.9926, 0.5023, 0.5004]\n",
       "PeriodicSite: Cr (-1.6853, -0.4088, -3.3016) [0.2597, 0.0022, 0.2504]\n",
       "PeriodicSite: Cr (-1.5723, 3.8878, -0.0055) [0.4923, 0.5022, 0.0004]\n",
       "PeriodicSite: P (0.5763, 2.0653, -3.6237) [0.0751, 0.3271, 0.2748]\n",
       "PeriodicSite: P (-2.6824, 1.2147, -10.2170) [0.5751, 0.3271, 0.7748]\n",
       "PeriodicSite: P (2.6820, 6.3622, -0.3274) [0.0020, 0.8271, 0.0248]\n",
       "PeriodicSite: P (-0.5763, 5.5120, -6.9201) [0.5020, 0.8271, 0.5248]\n",
       "PeriodicSite: P (-2.6097, 0.5821, -6.2722) [0.4903, 0.1797, 0.4757]\n",
       "PeriodicSite: P (-5.8680, -0.2686, -12.8653) [0.9902, 0.1796, 0.9757]\n",
       "PeriodicSite: P (-0.6490, 4.8788, -2.9758) [0.4394, 0.6796, 0.2257]\n",
       "PeriodicSite: P (-3.9074, 4.0281, -9.5690) [0.9394, 0.6796, 0.7257]\n",
       "PeriodicSite: P (-3.5882, 1.8100, -1.6427) [0.6812, 0.2611, 0.1246]\n",
       "PeriodicSite: P (-0.3299, 0.9597, -8.2359) [0.1812, 0.2611, 0.6246]\n",
       "PeriodicSite: P (-2.9289, 5.2566, -4.9391) [0.8300, 0.7611, 0.3746]\n",
       "PeriodicSite: P (0.3295, 4.4063, -11.5326) [0.3300, 0.7612, 0.8746]\n",
       "PeriodicSite: O (-0.7745, 4.9682, -1.4819) [0.4520, 0.6663, 0.1124]\n",
       "PeriodicSite: O (-4.0333, 4.1174, -8.0751) [0.9520, 0.6662, 0.6124]\n",
       "PeriodicSite: O (-2.4839, 0.6710, -4.7786) [0.4643, 0.1663, 0.3624]\n",
       "PeriodicSite: O (-5.7422, -0.1795, -11.3714) [0.9642, 0.1663, 0.8624]\n",
       "PeriodicSite: O (-2.9581, 0.5136, -2.0554) [0.5042, 0.1006, 0.1559]\n",
       "PeriodicSite: O (0.3004, -0.3366, -8.6484) [0.0042, 0.1006, 0.6559]\n",
       "PeriodicSite: O (-3.5590, 3.9602, -5.3518) [0.8464, 0.6006, 0.4059]\n",
       "PeriodicSite: O (-0.3003, 3.1097, -11.9453) [0.3464, 0.6006, 0.9059]\n",
       "PeriodicSite: O (-0.2066, 2.4683, -0.3423) [0.1939, 0.3245, 0.0260]\n",
       "PeriodicSite: O (-3.4652, 1.6178, -6.9352) [0.6939, 0.3245, 0.5259]\n",
       "PeriodicSite: O (0.2065, 5.9150, -3.6385) [0.3805, 0.8245, 0.2759]\n",
       "PeriodicSite: O (-3.0518, 5.0644, -10.2315) [0.8805, 0.8245, 0.7759]\n",
       "PeriodicSite: O (2.7075, 6.4374, -4.6713) [0.0391, 0.9092, 0.3543]\n",
       "PeriodicSite: O (-0.5512, 5.5870, -11.2645) [0.5391, 0.9092, 0.8543]\n",
       "PeriodicSite: O (-2.7075, 2.9909, -1.3751) [0.6200, 0.4092, 0.1043]\n",
       "PeriodicSite: O (0.5510, 2.1402, -7.9680) [0.1200, 0.4091, 0.6043]\n",
       "PeriodicSite: O (0.2107, 4.3850, -6.3197) [0.3034, 0.6716, 0.4793]\n",
       "PeriodicSite: O (-3.0477, 3.5342, -12.9129) [0.8034, 0.6715, 0.9793]\n",
       "PeriodicSite: O (-0.2108, 0.9384, -3.0231) [0.1181, 0.1715, 0.2293]\n",
       "PeriodicSite: O (-3.4693, 0.0881, -9.6162) [0.6181, 0.1716, 0.7293]\n",
       "PeriodicSite: O (0.9675, 1.9388, -5.0689) [0.0189, 0.3348, 0.3844]\n",
       "PeriodicSite: O (-2.2910, 1.0883, -11.6619) [0.5189, 0.3348, 0.8844]\n",
       "PeriodicSite: O (2.2908, 6.2355, -1.7727) [0.0659, 0.8348, 0.1344]\n",
       "PeriodicSite: O (-0.9676, 5.3853, -8.3653) [0.5659, 0.8348, 0.6344]\n",
       "PeriodicSite: O (-2.1092, 4.9492, -3.6073) [0.6733, 0.6992, 0.2736]\n",
       "PeriodicSite: O (1.1495, 4.0986, -10.2007) [0.1732, 0.6992, 0.7736]\n",
       "PeriodicSite: O (-4.4079, 1.5026, -0.3109) [0.7760, 0.1992, 0.0236]\n",
       "PeriodicSite: O (-1.1495, 0.6522, -6.9040) [0.2760, 0.1992, 0.5236]\n",
       "PeriodicSite: O (-4.6434, 2.3329, -2.7247) [0.8858, 0.3467, 0.2066]\n",
       "PeriodicSite: O (-1.3850, 1.4822, -9.3176) [0.3858, 0.3466, 0.7066]\n",
       "PeriodicSite: O (-1.8735, 5.7793, -6.0210) [0.7108, 0.8466, 0.4566]\n",
       "PeriodicSite: O (1.3846, 4.9288, -12.6145) [0.2108, 0.8467, 0.9566]\n",
       "PeriodicSite: O (-3.0359, 7.7203, -0.1466) [0.9656, 0.9995, 0.0111]\n",
       "PeriodicSite: O (0.2223, 6.8698, -6.7393) [0.4656, 0.9994, 0.5111]\n",
       "PeriodicSite: O (-0.2227, 3.4235, -3.4428) [0.2839, 0.4995, 0.2611]\n",
       "PeriodicSite: O (-3.4812, 2.5730, -10.0361) [0.7839, 0.4995, 0.7611]"
      ]
     },
     "execution_count": 7,
     "metadata": {},
     "output_type": "execute_result"
    }
   ],
   "source": [
    "SpacegroupAnalyzer(structure, symprec=symm_tol).get_conventional_standard_structure()"
   ]
  },
  {
   "cell_type": "code",
   "execution_count": 8,
   "metadata": {},
   "outputs": [
    {
     "data": {
      "text/plain": [
       "'triclinic'"
      ]
     },
     "execution_count": 8,
     "metadata": {},
     "output_type": "execute_result"
    }
   ],
   "source": [
    "SpacegroupAnalyzer(structure, symprec=symm_tol).get_crystal_system()"
   ]
  },
  {
   "cell_type": "code",
   "execution_count": null,
   "metadata": {},
   "outputs": [],
   "source": []
  }
 ],
 "metadata": {
  "kernelspec": {
   "display_name": "Python 3",
   "language": "python",
   "name": "python3"
  },
  "language_info": {
   "codemirror_mode": {
    "name": "ipython",
    "version": 3
   },
   "file_extension": ".py",
   "mimetype": "text/x-python",
   "name": "python",
   "nbconvert_exporter": "python",
   "pygments_lexer": "ipython3",
   "version": "3.7.5"
  }
 },
 "nbformat": 4,
 "nbformat_minor": 4
}
